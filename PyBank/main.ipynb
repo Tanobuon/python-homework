{
 "cells": [
  {
   "cell_type": "code",
   "execution_count": 47,
   "id": "e9f2ee39-f03e-4904-9d23-2690de30b7d5",
   "metadata": {},
   "outputs": [
    {
     "name": "stdout",
     "output_type": "stream",
     "text": [
      "Financial Analysis\n",
      "-----------------------------------\n",
      "Total Months: 86\n",
      "Total Profits/Losses: $ 38382578.0\n",
      "Avereage Profit/Loss Change: $ -2315.12\n",
      "Greatest Increase in Profits: Jan-2012 ($ 1926159.0 )\n",
      "Greatest Decrease in Profits: Aug-2013 ($ -2196167.0 )\n"
     ]
    }
   ],
   "source": [
    "# Importing the pathlib and csv library\n",
    "from pathlib import Path\n",
    "import csv\n",
    "# Setting up the file path\n",
    "\n",
    "csvpath = Path('project_files/budget_data.csv')\n",
    "#initialize variables\n",
    "months = []\n",
    "proflosses = []\n",
    "pl_change = []\n",
    "# Opening the input path as a file object\n",
    "with open(csvpath, 'r') as csvfile:\n",
    "\n",
    "\n",
    "    csvreader = csv.reader(csvfile, delimiter=',')\n",
    "    \n",
    "# use of next to skip first title row in csv file    \n",
    "    header = next(csvreader)\n",
    "    \n",
    "# I created a loop to do the sum of column 1 which is profitlosses in csv file and counted months which is column 0    \n",
    "\n",
    "    for row in csvreader:   \n",
    "      \n",
    "        proflosses.append(float(row[1]))\n",
    "        months.append(row[0])\n",
    "\n",
    "# created a loop to calculate the total of difference between all row of column \"profitlosses\" and found pl change. Used the max and min functions to find profitloss lowest and highest values.\n",
    "    \n",
    "    \n",
    "\n",
    "for i in range(1, len(proflosses)):\n",
    "    pl_change.append(proflosses[i] - proflosses[i-1])\n",
    "    avg_pl_change = sum(pl_change)/len(pl_change)\n",
    "    \n",
    "    max_pl_change = max(pl_change)\n",
    "    \n",
    "    min_pl_change = min(pl_change)\n",
    "# extracted the date in string form of min and max pl change     \n",
    "max_pl_change_date = str(months[pl_change.index(max(pl_change))])\n",
    "min_pl_change_date = str(months[pl_change.index(min(pl_change))])\n",
    "        \n",
    "\n",
    "\n",
    "# Printed the output\n",
    "\n",
    "\n",
    "print(\"Financial Analysis\")\n",
    "print(\"-----------------------------------\")\n",
    "print(\"Total Months:\", len(months))\n",
    "print(\"Total Profits/Losses: $\", sum(proflosses))       \n",
    "print(\"Avereage Profit/Loss Change: $\", round(avg_pl_change, 2))\n",
    "print(\"Greatest Increase in Profits:\", max_pl_change_date,\"($\", max_pl_change,\")\")\n",
    "print(\"Greatest Decrease in Profits:\", min_pl_change_date,\"($\", min_pl_change,\")\")\n",
    "\n",
    "\n",
    "header = [\"Tot_Months\", \"Total_Profit/Loss\", \"Avg_Profit/Loss_Change\", \"Greatest_Increase\", \"Greatest_Decrease\"]\n",
    "# Created a list of metrics\n",
    "metrics = [len(months), sum(proflosses), avg_pl_change, max_pl_change, min_pl_change]\n",
    "#initialized an output path\n",
    "output_path = Path('output.txt')\n",
    "# Opened the output path as a file object\n",
    "with open(output_path, 'w') as csvfile:\n",
    "    # Setted the file object as a csvwriter object\n",
    "    csvwriter = csv.writer(csvfile, delimiter=',')\n",
    "    # Wrote the header to the output file\n",
    "    csvwriter.writerow(header)\n",
    "    # Wrote the list of metrics to the output file\n",
    "    csvwriter.writerow(metrics)\n"
   ]
  },
  {
   "cell_type": "code",
   "execution_count": null,
   "id": "c78b49d9-9869-4750-9781-0f2eff709abb",
   "metadata": {},
   "outputs": [],
   "source": []
  }
 ],
 "metadata": {
  "kernelspec": {
   "display_name": "Python 3",
   "language": "python",
   "name": "python3"
  },
  "language_info": {
   "codemirror_mode": {
    "name": "ipython",
    "version": 3
   },
   "file_extension": ".py",
   "mimetype": "text/x-python",
   "name": "python",
   "nbconvert_exporter": "python",
   "pygments_lexer": "ipython3",
   "version": "3.8.8"
  }
 },
 "nbformat": 4,
 "nbformat_minor": 5
}
